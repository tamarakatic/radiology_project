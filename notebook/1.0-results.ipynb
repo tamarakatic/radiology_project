{
 "cells": [
  {
   "cell_type": "code",
   "execution_count": 1,
   "metadata": {},
   "outputs": [],
   "source": [
    "import pandas as pd\n",
    "import numpy as np\n",
    "import matplotlib.pyplot as plt\n",
    "\n",
    "%matplotlib inline"
   ]
  },
  {
   "cell_type": "code",
   "execution_count": 2,
   "metadata": {},
   "outputs": [],
   "source": [
    "df_human = pd.read_csv(\"../results/labeled/human_labels.csv\")\n",
    "\n",
    "df_pure_matching_v1 = pd.read_csv(\"../results/labeled/pure_matching_v1.csv\")\n",
    "df_pure_matching_v2 = pd.read_csv(\"../results/labeled/pure_matching_v2.csv\")\n",
    "\n",
    "df_fastText_v1 = pd.read_csv(\"../results/labeled/fastText_v1.csv\")\n",
    "df_fastText_v2 = pd.read_csv(\"../results/labeled/fastText_v2.csv\")"
   ]
  },
  {
   "cell_type": "code",
   "execution_count": 3,
   "metadata": {},
   "outputs": [
    {
     "data": {
      "text/html": [
       "<div>\n",
       "<style scoped>\n",
       "    .dataframe tbody tr th:only-of-type {\n",
       "        vertical-align: middle;\n",
       "    }\n",
       "\n",
       "    .dataframe tbody tr th {\n",
       "        vertical-align: top;\n",
       "    }\n",
       "\n",
       "    .dataframe thead th {\n",
       "        text-align: right;\n",
       "    }\n",
       "</style>\n",
       "<table border=\"1\" class=\"dataframe\">\n",
       "  <thead>\n",
       "    <tr style=\"text-align: right;\">\n",
       "      <th></th>\n",
       "      <th>annotation</th>\n",
       "      <th>label</th>\n",
       "    </tr>\n",
       "  </thead>\n",
       "  <tbody>\n",
       "    <tr>\n",
       "      <th>0</th>\n",
       "      <td>Airspace Disease/lung/middle lobe/right/focal</td>\n",
       "      <td>I-1</td>\n",
       "    </tr>\n",
       "    <tr>\n",
       "      <th>1</th>\n",
       "      <td>Surgical Instruments/mediastinum</td>\n",
       "      <td>F-1</td>\n",
       "    </tr>\n",
       "    <tr>\n",
       "      <th>2</th>\n",
       "      <td>Deformity/thoracic vertebrae</td>\n",
       "      <td>F-4</td>\n",
       "    </tr>\n",
       "    <tr>\n",
       "      <th>3</th>\n",
       "      <td>Emphysema</td>\n",
       "      <td>F-4</td>\n",
       "    </tr>\n",
       "    <tr>\n",
       "      <th>4</th>\n",
       "      <td>Fractures, Bone/clavicle/left/healed</td>\n",
       "      <td>F-6</td>\n",
       "    </tr>\n",
       "    <tr>\n",
       "      <th>5</th>\n",
       "      <td>Hernia, Hiatal</td>\n",
       "      <td>I-3</td>\n",
       "    </tr>\n",
       "    <tr>\n",
       "      <th>6</th>\n",
       "      <td>Lung/hypoinflation</td>\n",
       "      <td>F-2</td>\n",
       "    </tr>\n",
       "    <tr>\n",
       "      <th>7</th>\n",
       "      <td>Markings/bronchovascular/mild</td>\n",
       "      <td>F-2</td>\n",
       "    </tr>\n",
       "    <tr>\n",
       "      <th>8</th>\n",
       "      <td>Opacity/lung/base/left/mild</td>\n",
       "      <td>F-3</td>\n",
       "    </tr>\n",
       "    <tr>\n",
       "      <th>9</th>\n",
       "      <td>Diaphragm/left/obscured</td>\n",
       "      <td>F-4</td>\n",
       "    </tr>\n",
       "  </tbody>\n",
       "</table>\n",
       "</div>"
      ],
      "text/plain": [
       "                                      annotation label\n",
       "0  Airspace Disease/lung/middle lobe/right/focal   I-1\n",
       "1               Surgical Instruments/mediastinum   F-1\n",
       "2                   Deformity/thoracic vertebrae   F-4\n",
       "3                                      Emphysema   F-4\n",
       "4           Fractures, Bone/clavicle/left/healed   F-6\n",
       "5                                 Hernia, Hiatal   I-3\n",
       "6                             Lung/hypoinflation   F-2\n",
       "7                  Markings/bronchovascular/mild   F-2\n",
       "8                    Opacity/lung/base/left/mild   F-3\n",
       "9                        Diaphragm/left/obscured   F-4"
      ]
     },
     "execution_count": 3,
     "metadata": {},
     "output_type": "execute_result"
    }
   ],
   "source": [
    "df_human.head(10)"
   ]
  },
  {
   "cell_type": "code",
   "execution_count": 4,
   "metadata": {},
   "outputs": [
    {
     "data": {
      "text/html": [
       "<div>\n",
       "<style scoped>\n",
       "    .dataframe tbody tr th:only-of-type {\n",
       "        vertical-align: middle;\n",
       "    }\n",
       "\n",
       "    .dataframe tbody tr th {\n",
       "        vertical-align: top;\n",
       "    }\n",
       "\n",
       "    .dataframe thead th {\n",
       "        text-align: right;\n",
       "    }\n",
       "</style>\n",
       "<table border=\"1\" class=\"dataframe\">\n",
       "  <thead>\n",
       "    <tr style=\"text-align: right;\">\n",
       "      <th></th>\n",
       "      <th>annotation</th>\n",
       "      <th>label</th>\n",
       "    </tr>\n",
       "  </thead>\n",
       "  <tbody>\n",
       "    <tr>\n",
       "      <th>0</th>\n",
       "      <td>Airspace Disease/lung/middle lobe/right/focal</td>\n",
       "      <td>I-1</td>\n",
       "    </tr>\n",
       "    <tr>\n",
       "      <th>1</th>\n",
       "      <td>Surgical Instruments/mediastinum</td>\n",
       "      <td>0</td>\n",
       "    </tr>\n",
       "    <tr>\n",
       "      <th>2</th>\n",
       "      <td>Deformity/thoracic vertebrae</td>\n",
       "      <td>F-4</td>\n",
       "    </tr>\n",
       "    <tr>\n",
       "      <th>3</th>\n",
       "      <td>Emphysema</td>\n",
       "      <td>I-1</td>\n",
       "    </tr>\n",
       "    <tr>\n",
       "      <th>4</th>\n",
       "      <td>Fractures, Bone/clavicle/left/healed</td>\n",
       "      <td>0</td>\n",
       "    </tr>\n",
       "    <tr>\n",
       "      <th>5</th>\n",
       "      <td>Hernia, Hiatal</td>\n",
       "      <td>I-3</td>\n",
       "    </tr>\n",
       "    <tr>\n",
       "      <th>6</th>\n",
       "      <td>Lung/hypoinflation</td>\n",
       "      <td>F-3</td>\n",
       "    </tr>\n",
       "    <tr>\n",
       "      <th>7</th>\n",
       "      <td>Markings/bronchovascular/mild</td>\n",
       "      <td>0</td>\n",
       "    </tr>\n",
       "    <tr>\n",
       "      <th>8</th>\n",
       "      <td>Opacity/lung/base/left/mild</td>\n",
       "      <td>F-3</td>\n",
       "    </tr>\n",
       "    <tr>\n",
       "      <th>9</th>\n",
       "      <td>Diaphragm/left/obscured</td>\n",
       "      <td>0</td>\n",
       "    </tr>\n",
       "  </tbody>\n",
       "</table>\n",
       "</div>"
      ],
      "text/plain": [
       "                                      annotation label\n",
       "0  Airspace Disease/lung/middle lobe/right/focal   I-1\n",
       "1               Surgical Instruments/mediastinum     0\n",
       "2                   Deformity/thoracic vertebrae   F-4\n",
       "3                                      Emphysema   I-1\n",
       "4           Fractures, Bone/clavicle/left/healed     0\n",
       "5                                 Hernia, Hiatal   I-3\n",
       "6                             Lung/hypoinflation   F-3\n",
       "7                  Markings/bronchovascular/mild     0\n",
       "8                    Opacity/lung/base/left/mild   F-3\n",
       "9                        Diaphragm/left/obscured     0"
      ]
     },
     "execution_count": 4,
     "metadata": {},
     "output_type": "execute_result"
    }
   ],
   "source": [
    "df_pure_matching_v2.head(10)"
   ]
  },
  {
   "cell_type": "code",
   "execution_count": 5,
   "metadata": {},
   "outputs": [
    {
     "data": {
      "text/html": [
       "<div>\n",
       "<style scoped>\n",
       "    .dataframe tbody tr th:only-of-type {\n",
       "        vertical-align: middle;\n",
       "    }\n",
       "\n",
       "    .dataframe tbody tr th {\n",
       "        vertical-align: top;\n",
       "    }\n",
       "\n",
       "    .dataframe thead th {\n",
       "        text-align: right;\n",
       "    }\n",
       "</style>\n",
       "<table border=\"1\" class=\"dataframe\">\n",
       "  <thead>\n",
       "    <tr style=\"text-align: right;\">\n",
       "      <th></th>\n",
       "      <th>annotation</th>\n",
       "      <th>label</th>\n",
       "    </tr>\n",
       "  </thead>\n",
       "  <tbody>\n",
       "    <tr>\n",
       "      <th>0</th>\n",
       "      <td>Airspace Disease/lung/middle lobe/right/focal</td>\n",
       "      <td>I-1</td>\n",
       "    </tr>\n",
       "    <tr>\n",
       "      <th>1</th>\n",
       "      <td>Surgical Instruments/mediastinum</td>\n",
       "      <td>0</td>\n",
       "    </tr>\n",
       "    <tr>\n",
       "      <th>2</th>\n",
       "      <td>Deformity/thoracic vertebrae</td>\n",
       "      <td>F-4</td>\n",
       "    </tr>\n",
       "    <tr>\n",
       "      <th>3</th>\n",
       "      <td>Emphysema</td>\n",
       "      <td>F-4</td>\n",
       "    </tr>\n",
       "    <tr>\n",
       "      <th>4</th>\n",
       "      <td>Fractures, Bone/clavicle/left/healed</td>\n",
       "      <td>0</td>\n",
       "    </tr>\n",
       "    <tr>\n",
       "      <th>5</th>\n",
       "      <td>Hernia, Hiatal</td>\n",
       "      <td>I-3</td>\n",
       "    </tr>\n",
       "    <tr>\n",
       "      <th>6</th>\n",
       "      <td>Lung/hypoinflation</td>\n",
       "      <td>I-1</td>\n",
       "    </tr>\n",
       "    <tr>\n",
       "      <th>7</th>\n",
       "      <td>Markings/bronchovascular/mild</td>\n",
       "      <td>0</td>\n",
       "    </tr>\n",
       "    <tr>\n",
       "      <th>8</th>\n",
       "      <td>Opacity/lung/base/left/mild</td>\n",
       "      <td>F-3</td>\n",
       "    </tr>\n",
       "    <tr>\n",
       "      <th>9</th>\n",
       "      <td>Diaphragm/left/obscured</td>\n",
       "      <td>F-4</td>\n",
       "    </tr>\n",
       "  </tbody>\n",
       "</table>\n",
       "</div>"
      ],
      "text/plain": [
       "                                      annotation label\n",
       "0  Airspace Disease/lung/middle lobe/right/focal   I-1\n",
       "1               Surgical Instruments/mediastinum     0\n",
       "2                   Deformity/thoracic vertebrae   F-4\n",
       "3                                      Emphysema   F-4\n",
       "4           Fractures, Bone/clavicle/left/healed     0\n",
       "5                                 Hernia, Hiatal   I-3\n",
       "6                             Lung/hypoinflation   I-1\n",
       "7                  Markings/bronchovascular/mild     0\n",
       "8                    Opacity/lung/base/left/mild   F-3\n",
       "9                        Diaphragm/left/obscured   F-4"
      ]
     },
     "execution_count": 5,
     "metadata": {},
     "output_type": "execute_result"
    }
   ],
   "source": [
    "df_fastText_v2.head(10)"
   ]
  },
  {
   "cell_type": "code",
   "execution_count": 6,
   "metadata": {},
   "outputs": [],
   "source": [
    "def print_labels(df):\n",
    "    print(list(np.unique(df.label)))\n",
    "    \n",
    "def diff_labels(df1, df2):\n",
    "    print(list(set(np.unique(df1.label)) - set(np.unique(df2.label))))"
   ]
  },
  {
   "cell_type": "code",
   "execution_count": 7,
   "metadata": {},
   "outputs": [
    {
     "name": "stdout",
     "output_type": "stream",
     "text": [
      "['0', 'F-1', 'F-10', 'F-11', 'F-12', 'F-2', 'F-3', 'F-4', 'F-5', 'F-6', 'F-7', 'F-8', 'F-9', 'I-1', 'I-2', 'I-3', 'I-4', 'I-5']\n",
      "['0', 'F-1', 'F-11', 'F-12', 'F-2', 'F-3', 'F-4', 'F-5', 'F-6', 'F-7', 'F-8', 'I-1', 'I-2', 'I-3', 'I-4', 'I-5']\n",
      "['0', 'F-1', 'F-11', 'F-12', 'F-2', 'F-3', 'F-4', 'F-5', 'F-6', 'F-7', 'F-8', 'F-9', 'I-1', 'I-2', 'I-3', 'I-4', 'I-5']\n",
      "['0', 'F-1', 'F-10', 'F-11', 'F-12', 'F-2', 'F-3', 'F-4', 'F-5', 'F-6', 'F-7', 'F-8', 'F-9', 'I-1', 'I-2', 'I-3', 'I-4', 'I-5']\n",
      "['0', 'F-1', 'F-10', 'F-11', 'F-12', 'F-2', 'F-3', 'F-4', 'F-5', 'F-6', 'F-7', 'F-8', 'F-9', 'I-1', 'I-2', 'I-3', 'I-4', 'I-5']\n"
     ]
    }
   ],
   "source": [
    "print_labels(df_human)\n",
    "print_labels(df_pure_matching_v1)\n",
    "print_labels(df_pure_matching_v2)\n",
    "\n",
    "print_labels(df_fastText_v1)\n",
    "print_labels(df_fastText_v2)"
   ]
  },
  {
   "cell_type": "code",
   "execution_count": 8,
   "metadata": {},
   "outputs": [
    {
     "name": "stdout",
     "output_type": "stream",
     "text": [
      "['F-10', 'F-9']\n",
      "['F-10']\n",
      "[]\n",
      "[]\n"
     ]
    }
   ],
   "source": [
    "diff_labels(df_human, df_pure_matching_v1)\n",
    "diff_labels(df_human, df_pure_matching_v2)\n",
    "\n",
    "diff_labels(df_human, df_fastText_v1)\n",
    "diff_labels(df_human, df_fastText_v2)"
   ]
  },
  {
   "cell_type": "code",
   "execution_count": 9,
   "metadata": {},
   "outputs": [
    {
     "data": {
      "image/png": "[encoded data removed]",
      "text/plain": [
       "<Figure size 1080x576 with 1 Axes>"
      ]
     },
     "metadata": {
      "needs_background": "light"
     },
     "output_type": "display_data"
    }
   ],
   "source": [
    "plt.figure(figsize=(15, 8))\n",
    "unique, counts = np.unique(df_human.label, return_counts=True)\n",
    "plt.bar(unique, counts)\n",
    "\n",
    "plt.title('Class Frequency of Human Labeled Dataset')\n",
    "plt.xlabel('Class')\n",
    "plt.ylabel('Frequency')\n",
    "\n",
    "plt.show()"
   ]
  },
  {
   "cell_type": "code",
   "execution_count": 16,
   "metadata": {},
   "outputs": [
    {
     "data": {
      "image/png": "[encoded data removed]",
      "text/plain": [
       "<Figure size 1080x576 with 1 Axes>"
      ]
     },
     "metadata": {
      "needs_background": "light"
     },
     "output_type": "display_data"
    }
   ],
   "source": [
    "plt.figure(figsize=(15, 8))\n",
    "unique, counts = np.unique(df_fastText_v2.label, return_counts=True)\n",
    "plt.bar(unique, counts)\n",
    "\n",
    "plt.title('Class Frequency of FastText Labeled Dataset')\n",
    "plt.xlabel('Class')\n",
    "plt.ylabel('Frequency')\n",
    "\n",
    "plt.show()"
   ]
  }
 ],
 "metadata": {
  "kernelspec": {
   "display_name": "Python 3",
   "language": "python",
   "name": "python3"
  },
  "language_info": {
   "codemirror_mode": {
    "name": "ipython",
    "version": 3
   },
   "file_extension": ".py",
   "mimetype": "text/x-python",
   "name": "python",
   "nbconvert_exporter": "python",
   "pygments_lexer": "ipython3",
   "version": "3.6.9"
  }
 },
 "nbformat": 4,
 "nbformat_minor": 4
}
