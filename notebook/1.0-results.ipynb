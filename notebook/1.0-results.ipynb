{
 "cells": [
  {
   "cell_type": "code",
   "execution_count": 1,
   "metadata": {},
   "outputs": [],
   "source": [
    "import pandas as pd\n",
    "import numpy as np\n",
    "import matplotlib.pyplot as plt\n",
    "\n",
    "%matplotlib inline"
   ]
  },
  {
   "cell_type": "code",
   "execution_count": 2,
   "metadata": {},
   "outputs": [],
   "source": [
    "df = pd.read_csv(\"../results/number_of_headings_and_subheadings.csv\")"
   ]
  },
  {
   "cell_type": "code",
   "execution_count": 3,
   "metadata": {},
   "outputs": [],
   "source": [
    "df = df[[\"Diseases (Headings)\", \"First Subheadings\"]]"
   ]
  },
  {
   "cell_type": "code",
   "execution_count": 4,
   "metadata": {},
   "outputs": [],
   "source": [
    "df1 = df.drop('First Subheadings', axis=1)"
   ]
  },
  {
   "cell_type": "code",
   "execution_count": 5,
   "metadata": {},
   "outputs": [],
   "source": [
    "df2 = df.drop(\"Diseases (Headings)\", axis=1)\n",
    "df2.dropna(inplace=True)"
   ]
  },
  {
   "cell_type": "code",
   "execution_count": 6,
   "metadata": {},
   "outputs": [],
   "source": [
    "df1.columns = [\"disease\"]\n",
    "df2.columns = [\"disease\"]"
   ]
  },
  {
   "cell_type": "code",
   "execution_count": 8,
   "metadata": {},
   "outputs": [],
   "source": [
    "df1 = df1[\"disease\"].str.extract('([a-zA-Z ]+)', expand=False).str.strip()\n",
    "df2 = df2[\"disease\"].str.extract('([a-zA-Z ]+)', expand=False).str.strip()"
   ]
  },
  {
   "cell_type": "code",
   "execution_count": 11,
   "metadata": {},
   "outputs": [],
   "source": [
    "def overlapping_percentage(x, y):\n",
    "    return float(len(set(list(x.str.lower())).intersection(list(y.str.lower()))) / len(y)) * 100"
   ]
  },
  {
   "cell_type": "code",
   "execution_count": 13,
   "metadata": {},
   "outputs": [
    {
     "data": {
      "text/plain": [
       "30.120481927710845"
      ]
     },
     "execution_count": 13,
     "metadata": {},
     "output_type": "execute_result"
    }
   ],
   "source": [
    "overlapping_percentage(df1, df2)"
   ]
  },
  {
   "cell_type": "code",
   "execution_count": 14,
   "metadata": {},
   "outputs": [],
   "source": [
    "df_human = pd.read_csv(\"../results/labeled/human_labels.csv\")\n",
    "df_human.columns = ['filename', 'annotation', 'human_label']\n",
    "\n",
    "df_fastText_rule_based_v2 = pd.read_csv(\"../results/labeled/rule_based_fastText_v2.csv\")\n",
    "df_fastText_rule_based_v2.columns = ['filename1', 'annotation1', 'rule_ft_v2_label']"
   ]
  },
  {
   "cell_type": "code",
   "execution_count": 15,
   "metadata": {},
   "outputs": [],
   "source": [
    "merged_df = pd.concat([df_human, df_fastText_rule_based_v2], axis=1)\n",
    "df = merged_df.drop(['filename1', 'annotation1'], axis=1)"
   ]
  },
  {
   "cell_type": "code",
   "execution_count": 16,
   "metadata": {},
   "outputs": [
    {
     "data": {
      "text/html": [
       "<div>\n",
       "<style scoped>\n",
       "    .dataframe tbody tr th:only-of-type {\n",
       "        vertical-align: middle;\n",
       "    }\n",
       "\n",
       "    .dataframe tbody tr th {\n",
       "        vertical-align: top;\n",
       "    }\n",
       "\n",
       "    .dataframe thead th {\n",
       "        text-align: right;\n",
       "    }\n",
       "</style>\n",
       "<table border=\"1\" class=\"dataframe\">\n",
       "  <thead>\n",
       "    <tr style=\"text-align: right;\">\n",
       "      <th></th>\n",
       "      <th>filename</th>\n",
       "      <th>annotation</th>\n",
       "      <th>human_label</th>\n",
       "      <th>rule_ft_v2_label</th>\n",
       "    </tr>\n",
       "  </thead>\n",
       "  <tbody>\n",
       "    <tr>\n",
       "      <th>17</th>\n",
       "      <td>300.txt</td>\n",
       "      <td>Pulmonary Disease, Chronic Obstructive</td>\n",
       "      <td>I-1</td>\n",
       "      <td>F-5</td>\n",
       "    </tr>\n",
       "    <tr>\n",
       "      <th>224</th>\n",
       "      <td>702.txt</td>\n",
       "      <td>Pulmonary Atelectasis/middle lobe/right</td>\n",
       "      <td>F-2</td>\n",
       "      <td>I-1</td>\n",
       "    </tr>\n",
       "    <tr>\n",
       "      <th>225</th>\n",
       "      <td>702.txt</td>\n",
       "      <td>Pulmonary Atelectasis/lower lobe/right</td>\n",
       "      <td>F-2</td>\n",
       "      <td>I-1</td>\n",
       "    </tr>\n",
       "    <tr>\n",
       "      <th>279</th>\n",
       "      <td>3750.txt</td>\n",
       "      <td>Pulmonary Congestion</td>\n",
       "      <td>I-1</td>\n",
       "      <td>F-3</td>\n",
       "    </tr>\n",
       "    <tr>\n",
       "      <th>280</th>\n",
       "      <td>3750.txt</td>\n",
       "      <td>Lung/interstitial/prominent</td>\n",
       "      <td>F-4</td>\n",
       "      <td>F-3</td>\n",
       "    </tr>\n",
       "    <tr>\n",
       "      <th>311</th>\n",
       "      <td>3769.txt</td>\n",
       "      <td>Opacity/lung/hilum/bilateral</td>\n",
       "      <td>F-2</td>\n",
       "      <td>I-1</td>\n",
       "    </tr>\n",
       "  </tbody>\n",
       "</table>\n",
       "</div>"
      ],
      "text/plain": [
       "     filename                               annotation human_label  \\\n",
       "17    300.txt   Pulmonary Disease, Chronic Obstructive         I-1   \n",
       "224   702.txt  Pulmonary Atelectasis/middle lobe/right         F-2   \n",
       "225   702.txt   Pulmonary Atelectasis/lower lobe/right         F-2   \n",
       "279  3750.txt                     Pulmonary Congestion         I-1   \n",
       "280  3750.txt              Lung/interstitial/prominent         F-4   \n",
       "311  3769.txt             Opacity/lung/hilum/bilateral         F-2   \n",
       "\n",
       "    rule_ft_v2_label  \n",
       "17               F-5  \n",
       "224              I-1  \n",
       "225              I-1  \n",
       "279              F-3  \n",
       "280              F-3  \n",
       "311              I-1  "
      ]
     },
     "execution_count": 16,
     "metadata": {},
     "output_type": "execute_result"
    }
   ],
   "source": [
    "df[df.human_label != df.rule_ft_v2_label]"
   ]
  },
  {
   "cell_type": "code",
   "execution_count": null,
   "metadata": {},
   "outputs": [],
   "source": [
    "def print_labels(df):\n",
    "    print(list(np.unique(df.label)))\n",
    "    \n",
    "def diff_labels(df1, df2):\n",
    "    print(list(set(np.unique(df1.label)) - set(np.unique(df2.label))))"
   ]
  },
  {
   "cell_type": "code",
   "execution_count": null,
   "metadata": {},
   "outputs": [],
   "source": [
    "print_labels(df_human)\n",
    "print_labels(df_pure_matching_v1)\n",
    "print_labels(df_pure_matching_v2)\n",
    "\n",
    "print_labels(df_fastText_v1)\n",
    "print_labels(df_fastText_v2)"
   ]
  },
  {
   "cell_type": "code",
   "execution_count": null,
   "metadata": {},
   "outputs": [],
   "source": [
    "diff_labels(df_human, df_pure_matching_v1)\n",
    "diff_labels(df_human, df_pure_matching_v2)\n",
    "\n",
    "diff_labels(df_human, df_fastText_v1)\n",
    "diff_labels(df_human, df_fastText_v2)"
   ]
  },
  {
   "cell_type": "code",
   "execution_count": null,
   "metadata": {},
   "outputs": [],
   "source": [
    "plt.figure(figsize=(15, 8))\n",
    "unique, counts = np.unique(df_human.label, return_counts=True)\n",
    "plt.bar(unique, counts)\n",
    "\n",
    "plt.title('Class Frequency of Human Labeled Dataset')\n",
    "plt.xlabel('Class')\n",
    "plt.ylabel('Frequency')\n",
    "\n",
    "plt.show()"
   ]
  },
  {
   "cell_type": "code",
   "execution_count": null,
   "metadata": {},
   "outputs": [],
   "source": [
    "plt.figure(figsize=(15, 8))\n",
    "unique, counts = np.unique(df_fastText_v2.label, return_counts=True)\n",
    "plt.bar(unique, counts)\n",
    "\n",
    "plt.title('Class Frequency of FastText Labeled Dataset')\n",
    "plt.xlabel('Class')\n",
    "plt.ylabel('Frequency')\n",
    "\n",
    "plt.show()"
   ]
  }
 ],
 "metadata": {
  "kernelspec": {
   "display_name": "Python 3",
   "language": "python",
   "name": "python3"
  },
  "language_info": {
   "codemirror_mode": {
    "name": "ipython",
    "version": 3
   },
   "file_extension": ".py",
   "mimetype": "text/x-python",
   "name": "python",
   "nbconvert_exporter": "python",
   "pygments_lexer": "ipython3",
   "version": "3.8.3"
  }
 },
 "nbformat": 4,
 "nbformat_minor": 4
}
