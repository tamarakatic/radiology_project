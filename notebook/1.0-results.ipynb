{
 "cells": [
  {
   "cell_type": "code",
   "execution_count": 52,
   "metadata": {},
   "outputs": [],
   "source": [
    "import pandas as pd\n",
    "import numpy as np\n",
    "import matplotlib.pyplot as plt\n",
    "\n",
    "%matplotlib inline"
   ]
  },
  {
   "cell_type": "code",
   "execution_count": 53,
   "metadata": {},
   "outputs": [],
   "source": [
    "df_new = pd.read_csv(\"../results/number_of_headings_and_subheadings.csv\")"
   ]
  },
  {
   "cell_type": "code",
   "execution_count": 54,
   "metadata": {},
   "outputs": [],
   "source": [
    "df = df_new[[\"Second Subheadings\", \"Third Subheadings\"]]"
   ]
  },
  {
   "cell_type": "code",
   "execution_count": 55,
   "metadata": {},
   "outputs": [],
   "source": [
    "df = df_new[[\"Diseases (Headings)\", \"First Subheadings\"]]"
   ]
  },
  {
   "cell_type": "code",
   "execution_count": 56,
   "metadata": {},
   "outputs": [],
   "source": [
    "df1 = df.drop('First Subheadings', axis=1)\n",
    "df1.dropna(inplace=True)"
   ]
  },
  {
   "cell_type": "code",
   "execution_count": 57,
   "metadata": {},
   "outputs": [],
   "source": [
    "df2 = df.drop(\"Diseases (Headings)\", axis=1)\n",
    "df2.dropna(inplace=True)"
   ]
  },
  {
   "cell_type": "code",
   "execution_count": 58,
   "metadata": {},
   "outputs": [],
   "source": [
    "df1.columns = [\"disease\"]\n",
    "df2.columns = [\"disease\"]"
   ]
  },
  {
   "cell_type": "code",
   "execution_count": 59,
   "metadata": {},
   "outputs": [],
   "source": [
    "df1.dropna(inplace=True)"
   ]
  },
  {
   "cell_type": "code",
   "execution_count": 60,
   "metadata": {},
   "outputs": [],
   "source": [
    "df1 = df1[\"disease\"].str.extract('([a-zA-Z ]+)', expand=False).str.strip()\n",
    "df2 = df2[\"disease\"].str.extract('([a-zA-Z ]+)', expand=False).str.strip()"
   ]
  },
  {
   "cell_type": "code",
   "execution_count": 45,
   "metadata": {},
   "outputs": [],
   "source": [
    "def list_of_words(df_n):\n",
    "    words = []\n",
    "    for word in list(df_n):\n",
    "        words.append(word.lower())\n",
    "    return words"
   ]
  },
  {
   "cell_type": "code",
   "execution_count": 46,
   "metadata": {},
   "outputs": [],
   "source": [
    "words_1 = list_of_words(df1)\n",
    "words_2 = list_of_words(df2)"
   ]
  },
  {
   "cell_type": "code",
   "execution_count": null,
   "metadata": {},
   "outputs": [],
   "source": [
    "print(len(Intersection(words_1, list(vocab.keys()))))\n",
    "print(len(Intersection(words_2, list(vocab.keys()))))"
   ]
  },
  {
   "cell_type": "code",
   "execution_count": null,
   "metadata": {},
   "outputs": [],
   "source": [
    "def Intersection(lst1, lst2): \n",
    "    return set(lst1).intersection(lst2) "
   ]
  },
  {
   "cell_type": "code",
   "execution_count": null,
   "metadata": {},
   "outputs": [],
   "source": [
    "def overlapping_percentage(x, y):\n",
    "    return float(len(set(list(x.str.lower())).intersection(list(y.str.lower()))) / len(y)) * 100"
   ]
  },
  {
   "cell_type": "code",
   "execution_count": null,
   "metadata": {},
   "outputs": [],
   "source": [
    "overlapping_percentage(df1, df2)"
   ]
  },
  {
   "cell_type": "code",
   "execution_count": null,
   "metadata": {},
   "outputs": [],
   "source": [
    "df_human = pd.read_csv(\"../results/labeled/human_labels.csv\")\n",
    "df_human.columns = ['filename', 'annotation', 'human_label']\n",
    "\n",
    "df_fastText_rule_based_v2 = pd.read_csv(\"../results/labeled/rule_based_fastText_v2.csv\")\n",
    "df_fastText_rule_based_v2.columns = ['filename1', 'annotation1', 'rule_ft_v2_label']"
   ]
  },
  {
   "cell_type": "code",
   "execution_count": null,
   "metadata": {},
   "outputs": [],
   "source": [
    "merged_df = pd.concat([df_human, df_fastText_rule_based_v2], axis=1)\n",
    "df = merged_df.drop(['filename1', 'annotation1'], axis=1)"
   ]
  },
  {
   "cell_type": "code",
   "execution_count": null,
   "metadata": {},
   "outputs": [],
   "source": [
    "df[df.human_label != df.rule_ft_v2_label]"
   ]
  },
  {
   "cell_type": "code",
   "execution_count": null,
   "metadata": {},
   "outputs": [],
   "source": [
    "def print_labels(df):\n",
    "    print(list(np.unique(df.label)))\n",
    "    \n",
    "def diff_labels(df1, df2):\n",
    "    print(list(set(np.unique(df1.label)) - set(np.unique(df2.label))))"
   ]
  },
  {
   "cell_type": "code",
   "execution_count": null,
   "metadata": {},
   "outputs": [],
   "source": [
    "print_labels(df_human)\n",
    "print_labels(df_pure_matching_v1)\n",
    "print_labels(df_pure_matching_v2)\n",
    "\n",
    "print_labels(df_fastText_v1)\n",
    "print_labels(df_fastText_v2)"
   ]
  },
  {
   "cell_type": "code",
   "execution_count": null,
   "metadata": {},
   "outputs": [],
   "source": [
    "diff_labels(df_human, df_pure_matching_v1)\n",
    "diff_labels(df_human, df_pure_matching_v2)\n",
    "\n",
    "diff_labels(df_human, df_fastText_v1)\n",
    "diff_labels(df_human, df_fastText_v2)"
   ]
  },
  {
   "cell_type": "code",
   "execution_count": null,
   "metadata": {},
   "outputs": [],
   "source": [
    "plt.figure(figsize=(15, 8))\n",
    "unique, counts = np.unique(df_human.label, return_counts=True)\n",
    "plt.bar(unique, counts)\n",
    "\n",
    "plt.title('Class Frequency of Human Labeled Dataset')\n",
    "plt.xlabel('Class')\n",
    "plt.ylabel('Frequency')\n",
    "\n",
    "plt.show()"
   ]
  },
  {
   "cell_type": "code",
   "execution_count": null,
   "metadata": {},
   "outputs": [],
   "source": [
    "plt.figure(figsize=(15, 8))\n",
    "unique, counts = np.unique(df_fastText_v2.label, return_counts=True)\n",
    "plt.bar(unique, counts)\n",
    "\n",
    "plt.title('Class Frequency of FastText Labeled Dataset')\n",
    "plt.xlabel('Class')\n",
    "plt.ylabel('Frequency')\n",
    "\n",
    "plt.show()"
   ]
  }
 ],
 "metadata": {
  "kernelspec": {
   "display_name": "Python 3",
   "language": "python",
   "name": "python3"
  },
  "language_info": {
   "codemirror_mode": {
    "name": "ipython",
    "version": 3
   },
   "file_extension": ".py",
   "mimetype": "text/x-python",
   "name": "python",
   "nbconvert_exporter": "python",
   "pygments_lexer": "ipython3",
   "version": "3.8.3"
  }
 },
 "nbformat": 4,
 "nbformat_minor": 4
}
